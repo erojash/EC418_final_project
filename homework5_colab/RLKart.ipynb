{
 "cells": [],
 "metadata": {
  "accelerator": "GPU",
  "colab": {
   "collapsed_sections": [],
   "machine_shape": "hm",
   "provenance": []
  },
  "kernelspec": {
   "display_name": "Python 3 (ipykernel)",
   "language": "python",
   "name": "python3"
  },
  "language_info": {
   "codemirror_mode": {
    "name": "ipython",
    "version": 3
   },
   "file_extension": ".py",
   "mimetype": "text/x-python",
   "name": "python",
   "nbconvert_exporter": "python",
   "pygments_lexer": "ipython3",
   "version": "3.9.15"
  },
  "vscode": {
   "interpreter": {
    "hash": "d18ba54a78a78e5ace5e7183cd44c0effbc084d4c08461ceea24f7715c529398"
   }
  }
 },
 "nbformat": 4,
 "nbformat_minor": 1
}
